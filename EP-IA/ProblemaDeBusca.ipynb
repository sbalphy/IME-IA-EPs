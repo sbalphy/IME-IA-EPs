{
 "cells": [
  {
   "cell_type": "markdown",
   "id": "450ae53d-90a1-43b8-b760-99d4074ee2a8",
   "metadata": {},
   "source": [
    "# Parte 1: carregando a base de dados e criando o problema."
   ]
  },
  {
   "cell_type": "markdown",
   "id": "465e160b-ebbb-4973-a409-2b1d3a4c6d68",
   "metadata": {},
   "source": [
    "Primeiro, vamos importar três funções: <br>\n",
    "- read_documents, responsável por puxar os textos da base de dados. <br>\n",
    "- print_search_result, responsável por\n",
    "- run_search, responsável por executar alguma busca especificada pelo usuário. <br>"
   ]
  },
  {
   "cell_type": "markdown",
   "id": "949400a3-1b46-4e76-89cc-4e9b71eefcb8",
   "metadata": {},
   "source": [
    "Depois, importaremos duas classes: <br>\n",
    "- LanguageModel, responsável por administrar a criação do modelo de linguagem com seus n-gramas.\n",
    "- CompleteSentence, que herda de LanguageModel e faz a interface com o problema de busca."
   ]
  },
  {
   "cell_type": "code",
   "execution_count": 1,
   "id": "6d94e3ad-d28b-44d8-8561-d83b002ed62d",
   "metadata": {
    "tags": []
   },
   "outputs": [],
   "source": [
    "%load_ext autoreload\n",
    "%autoreload 2\n",
    "from utils import read_documents, print_search_result\n",
    "from Searches import run_search\n",
    "from UpperClasses import LanguageModel\n",
    "from completeSentence import CompleteSentence\n",
    "from completeSentence2 import CompleteSentence2"
   ]
  },
  {
   "cell_type": "markdown",
   "id": "e4ddf72f-3f0b-40b6-9ffa-9904696fac77",
   "metadata": {},
   "source": [
    "   As opções que temos de documentos são, em ordem crescente de tamanho:\n",
    "- \"safatle\"\n",
    "- \"flor\"\n",
    "- \"mmorpho\"\n",
    "- \"saka\"\n",
    "- \"machado\"\n",
    "- \"todos\", a agregação de todos os anteriores.\n"
   ]
  },
  {
   "cell_type": "markdown",
   "id": "2423c2d7-4481-44c0-a092-10e4571a59c8",
   "metadata": {},
   "source": [
    "A seguir, precisamos definir um N para o nosso modelo. Note que o modelo também cria os (N-1)-grama para podermos, no futuro, calcular a probabilidade condicional de um dado N-grama."
   ]
  },
  {
   "cell_type": "code",
   "execution_count": 2,
   "id": "984de342-2016-4cab-b34e-7c41af44d016",
   "metadata": {
    "tags": []
   },
   "outputs": [
    {
     "name": "stdout",
     "output_type": "stream",
     "text": [
      "Creating a 3-gram Language Model based on safatle document\n",
      "Our vocabulary is made of approximately 14036 different words\n",
      "Our model was made based on 5670 sentences\n",
      "We have 116690 instances of 3-grams and 70307 instances of 2-grams\n"
     ]
    }
   ],
   "source": [
    "N = 3\n",
    "print(f\"Creating a {N}-gram Language Model based on safatle document\")\n",
    "text1 = read_documents(\"safatle\")\n",
    "model1 = LanguageModel(text1, N)"
   ]
  },
  {
   "cell_type": "code",
   "execution_count": 3,
   "id": "19e02fae-f1d5-4070-ae36-c873317f37dd",
   "metadata": {},
   "outputs": [
    {
     "name": "stdout",
     "output_type": "stream",
     "text": [
      "Creating a 3-gram Language Model based on machado document\n",
      "Our vocabulary is made of approximately 78208 different words\n",
      "Our model was made based on 175260 sentences\n",
      "We have 1828725 instances of 3-grams and 739128 instances of 2-grams\n"
     ]
    }
   ],
   "source": [
    "print(f\"Creating a {N}-gram Language Model based on machado document\")\n",
    "text2 = read_documents(\"machado\")\n",
    "model2 = LanguageModel(text2, N)"
   ]
  },
  {
   "cell_type": "code",
   "execution_count": 4,
   "id": "f7cf66fd-6f54-4a34-a42a-3e64ad2114d6",
   "metadata": {},
   "outputs": [
    {
     "name": "stdout",
     "output_type": "stream",
     "text": [
      "Creating a 3-gram Language Model based on all documents\n",
      "Our vocabulary is made of approximately 140683 different words\n",
      "Our model was made based on 353096 sentences\n",
      "We have 3748964 instances of 3-grams and 1443434 instances of 2-grams\n"
     ]
    }
   ],
   "source": [
    "print(f\"Creating a {N}-gram Language Model based on all documents\")\n",
    "text3 = read_documents(\"all\")\n",
    "model3 = LanguageModel(text3, N)"
   ]
  },
  {
   "cell_type": "markdown",
   "id": "fe91074e-e10b-488d-8734-925d2b5c7220",
   "metadata": {},
   "source": [
    "Com esses modelos, nós podemos acessar a contagem de cada N e (N-1)-gramas."
   ]
  },
  {
   "cell_type": "code",
   "execution_count": 5,
   "id": "f7a78327-bee0-4a8f-a190-ca54424b02cc",
   "metadata": {
    "tags": []
   },
   "outputs": [
    {
     "name": "stdout",
     "output_type": "stream",
     "text": [
      "The most common n-gram together with its count was: (('<s>', '<s>', 'o'), 24565)\n",
      "In the first model, the n-gram ('<s>', '<s>', 'o') occurs 345, and the (n-1)-gram ('<s>', '<s>') occurs 5670\n",
      "In the second model, the n-gram ('<s>', '<s>', 'o') occurs 8882, and the (n-1)-gram ('<s>', '<s>') occurs 175260\n",
      "In the third model, the n-gram ('<s>', '<s>', 'o') occurs 24565, and the (n-1)-gram ('<s>', '<s>') occurs 353096\n"
     ]
    }
   ],
   "source": [
    "most_common_count = model3.n_grams.most_common(1)[0]\n",
    "print(f\"The most common n-gram together with its count was: {most_common_count}\")\n",
    "most_common = most_common_count[0]\n",
    "most_common_smaller = model3.n_grams_smaller.most_common()[0][0]\n",
    "print(f\"In the first model, the n-gram {most_common} occurs {model1.n_grams[most_common]}, and the (n-1)-gram {most_common_smaller} occurs {model1.n_grams_smaller[most_common_smaller]}\")\n",
    "print(f\"In the second model, the n-gram {most_common} occurs {model2.n_grams[most_common]}, and the (n-1)-gram {most_common_smaller} occurs {model2.n_grams_smaller[most_common_smaller]}\")\n",
    "print(f\"In the third model, the n-gram {most_common} occurs {model3.n_grams[most_common]}, and the (n-1)-gram {most_common_smaller} occurs {model3.n_grams_smaller[most_common_smaller]}\")"
   ]
  },
  {
   "cell_type": "markdown",
   "id": "30b3126d-a94e-43af-8ff5-707b26285c5c",
   "metadata": {},
   "source": [
    "# Parte 2: modelando como busca."
   ]
  },
  {
   "cell_type": "markdown",
   "id": "5e97a077-da0c-4c53-8910-4873e6d55f9e",
   "metadata": {},
   "source": [
    "Nós iremos agora definir completar uma frase como um problema de busca. <br>\n",
    "A nossa classe CompleteSentence herda de Language Model, por isso sua inicialização será semelhante ao que vimos anteriormente. <br>\n",
    "Para sua inicialização precisaremos de três parâmetros: um documento (string), um N (int), e uma sentença (string). "
   ]
  },
  {
   "cell_type": "code",
   "execution_count": 6,
   "id": "b7062819-e199-4cbe-8655-52450f50700c",
   "metadata": {},
   "outputs": [
    {
     "name": "stdout",
     "output_type": "stream",
     "text": [
      "Our vocabulary is made of approximately 140683 different words\n",
      "Our model was made based on 353096 sentences\n",
      "We have 3748964 instances of 3-grams and 1443434 instances of 2-grams\n"
     ]
    }
   ],
   "source": [
    "cs = CompleteSentence(text3, N, \"<s> <s> <s>\")"
   ]
  },
  {
   "cell_type": "markdown",
   "id": "98b9b1f1-bdab-4d9c-822d-0dcc59c1f215",
   "metadata": {},
   "source": [
    "A classe CompleteSentence também herda da classe Problem vista em aula. <br>\n",
    "Existem 5 funções herdadas que devem ser implementadas. <br>\n",
    "A primeira é a initialState(), que deve retornar um estado baseado na frase inicial passada no momento da instanciação do objeto."
   ]
  },
  {
   "cell_type": "code",
   "execution_count": 7,
   "id": "cc2e31dd-7735-427b-a90d-b1dbf944637d",
   "metadata": {},
   "outputs": [
    {
     "name": "stdout",
     "output_type": "stream",
     "text": [
      "The initial state of the problem is: ('<s>', '<s>', '<s>')\n"
     ]
    }
   ],
   "source": [
    "print(f\"The initial state of the problem is: {cs.initialState()}\")"
   ]
  },
  {
   "cell_type": "markdown",
   "id": "d22a4dc5-6ae4-4200-aedc-b3a2184c5f3e",
   "metadata": {},
   "source": [
    "A segunda função é a actions(state), a qual deve retornar todas as ações que podem ser efetuadas sobre state."
   ]
  },
  {
   "cell_type": "code",
   "execution_count": 8,
   "id": "4ce44877-0b89-4833-81e4-3faa2ae3e033",
   "metadata": {
    "tags": []
   },
   "outputs": [
    {
     "name": "stdout",
     "output_type": "stream",
     "text": [
      "The initial state has a branching factor of 21977.\n"
     ]
    }
   ],
   "source": [
    "initial = cs.initialState()\n",
    "options = cs.actions(initial)\n",
    "print(f\"The initial state has a branching factor of {len(options)}.\")"
   ]
  },
  {
   "cell_type": "markdown",
   "id": "235033c9-d89e-4e02-ba6e-c2231a57667b",
   "metadata": {
    "tags": []
   },
   "source": [
    "A terceira e a quarta função são a result(state, action) e cost(state1, action, state2). <br>\n",
    "A função result é responsável por receber um estado1 e uma ação e retornar um estado2, resultante de aplicar a ação sobre estado1. <br>\n",
    "A função cost(state1, action, state2) retorna o custo de ir do estado state1 para estado state2 através de action. <br>"
   ]
  },
  {
   "cell_type": "code",
   "execution_count": 9,
   "id": "b2ae0074-fafa-4a12-92e6-fd915b70dea9",
   "metadata": {
    "tags": []
   },
   "outputs": [
    {
     "name": "stdout",
     "output_type": "stream",
     "text": [
      "('<s>', '<s>', '<s>') ---'inocentes'---> ('<s>', '<s>', '<s>', 'inocentes') costs 12.77\n",
      "('<s>', '<s>', '<s>') ---'tranqüilizado'---> ('<s>', '<s>', '<s>', 'tranqüilizado') costs 12.77\n",
      "('<s>', '<s>', '<s>') ---'contos'---> ('<s>', '<s>', '<s>', 'contos') costs 11.17\n",
      "('<s>', '<s>', '<s>') ---'perdoa'---> ('<s>', '<s>', '<s>', 'perdoa') costs 9.83\n",
      "('<s>', '<s>', '<s>') ---'tetra'---> ('<s>', '<s>', '<s>', 'tetra') costs 12.77\n",
      "('<s>', '<s>', '<s>') ---'carlotaqueria'---> ('<s>', '<s>', '<s>', 'carlotaqueria') costs 12.08\n",
      "There may be more actions, but we are stopping here...\n"
     ]
    }
   ],
   "source": [
    "for index, op in enumerate(options):\n",
    "    v = cs.result(initial, op)\n",
    "    print(f\"{initial} ---'{op}'---> {v} costs {cs.cost(initial, op, v):.2f}\")\n",
    "    if index == 5:\n",
    "        print(\"There may be more actions, but we are stopping here...\")\n",
    "        break\n",
    "        "
   ]
  },
  {
   "cell_type": "markdown",
   "id": "ba34c00c-de57-4c73-9433-34f18af69dc9",
   "metadata": {},
   "source": [
    "A última função é a responsável por identificação dos estados meta.\n",
    "Certifique-se que a sua função isGoal(state) retorna verdadeiro se state for meta e false caso contrário."
   ]
  },
  {
   "cell_type": "code",
   "execution_count": 10,
   "id": "e535a44c-98a7-4ef0-ab95-4602344b726a",
   "metadata": {},
   "outputs": [],
   "source": [
    "fake_goal = cs.initialState()\n",
    "true_goal = cs.result(cs.result(fake_goal, \".\"), \"</s>\")\n",
    "assert cs.isGoal(fake_goal) == False, \"Initial state is not a goal\"\n",
    "assert cs.isGoal(true_goal) == True, f\"The state {true_goal} is a goal\""
   ]
  },
  {
   "cell_type": "markdown",
   "id": "28cb3c30-492b-4a13-bc47-d215755fb354",
   "metadata": {
    "tags": []
   },
   "source": [
    "# Parte 3: Executando as buscas"
   ]
  },
  {
   "cell_type": "markdown",
   "id": "7f770630-ac88-4af5-ab15-1bf0c05c905a",
   "metadata": {},
   "source": [
    "Para executarmos as buscas, nós iremos utilizar a função run_search. Esta função recebe o nome de uma busca, uma instância de problema e possivelmente mais parâmetros. <br>\n"
   ]
  },
  {
   "cell_type": "markdown",
   "id": "6e7c9b4e-1553-4c80-b875-59076b084bff",
   "metadata": {},
   "source": [
    "Primeiro, executaremos uma busca de custo uniforme. Nessa busca, cada nó tem como prioridade a probabilidade total que leva até ele. <br>\n",
    "Com essa busca nós encontramos a resposta ótima. Note que ela é relativamente pequena, pois quanto maior a sentença, menos provável ela é. <br>"
   ]
  },
  {
   "cell_type": "code",
   "execution_count": 11,
   "id": "8250d9b0-b413-4724-912f-8aec292b4535",
   "metadata": {
    "tags": []
   },
   "outputs": [
    {
     "name": "stdout",
     "output_type": "stream",
     "text": [
      "Found the goal state after visiting 380 states, its log-probability is 7.607439131158633. The queue ended with 149787 elements and its maximum size was 149788.\n",
      "The solution has 4 steps\n",
      "('<s>', '<s>', '<s>')\n",
      "('<s>', '<s>', '<s>', 'por')\n",
      "('<s>', '<s>', '<s>', 'por', 'quê')\n",
      "('<s>', '<s>', '<s>', 'por', 'quê', '?')\n"
     ]
    }
   ],
   "source": [
    "import cProfile\n",
    "with cProfile.Profile() as pr:\n",
    "    S = run_search(\"UniformCost\", cs)\n",
    "    print_search_result(S)"
   ]
  },
  {
   "cell_type": "code",
   "execution_count": 12,
   "id": "32d8caab",
   "metadata": {},
   "outputs": [
    {
     "name": "stdout",
     "output_type": "stream",
     "text": [
      "         1975256 function calls in 35.279 seconds\n",
      "\n",
      "   Ordered by: internal time\n",
      "\n",
      "   ncalls  tottime  percall  cumtime  percall filename:lineno(function)\n",
      "      379   28.835    0.076   28.835    0.076 d:\\Programming\\Python\\IME-IA-EPs\\EP-IA\\completeSentence.py:49(<listcomp>)\n",
      "      379    2.705    0.007    2.705    0.007 {method 'copy' of 'set' objects}\n",
      "        1    2.480    2.480   35.247   35.247 d:\\Programming\\Python\\IME-IA-EPs\\EP-IA\\Searches.py:5(UniformCostSearch)\n",
      "   150167    0.314    0.000    0.808    0.000 d:\\Software\\Python310\\lib\\queue.py:122(put)\n",
      "   150166    0.297    0.000    0.352    0.000 d:\\Programming\\Python\\IME-IA-EPs\\EP-IA\\completeSentence.py:56(cost)\n",
      "   150547    0.084    0.000    0.185    0.000 d:\\Software\\Python310\\lib\\threading.py:359(notify)\n",
      "   150547    0.076    0.000    0.117    0.000 d:\\Software\\Python310\\lib\\threading.py:264(__enter__)\n",
      "   150547    0.062    0.000    0.101    0.000 d:\\Software\\Python310\\lib\\threading.py:279(_is_owned)\n",
      "   150167    0.060    0.000    0.060    0.000 {built-in method _heapq.heappush}\n",
      "   150167    0.056    0.000    0.116    0.000 d:\\Software\\Python310\\lib\\queue.py:235(_put)\n",
      "   150166    0.055    0.000    0.055    0.000 {built-in method math.log}\n",
      "   150547    0.055    0.000    0.072    0.000 d:\\Software\\Python310\\lib\\threading.py:267(__exit__)\n",
      "   150166    0.047    0.000    0.047    0.000 d:\\Programming\\Python\\IME-IA-EPs\\EP-IA\\completeSentence.py:50(result)\n",
      "   150548    0.039    0.000    0.039    0.000 {method 'acquire' of '_thread.lock' objects}\n",
      "        1    0.032    0.032   35.279   35.279 d:\\Programming\\Python\\IME-IA-EPs\\EP-IA\\Searches.py:111(run_search)\n",
      "   150547    0.032    0.000    0.032    0.000 {method '__enter__' of '_thread.lock' objects}\n",
      "   151307    0.017    0.000    0.017    0.000 {method '__exit__' of '_thread.lock' objects}\n",
      "      379    0.008    0.000   31.549    0.083 d:\\Programming\\Python\\IME-IA-EPs\\EP-IA\\completeSentence.py:35(actions)\n",
      "     1286    0.006    0.000    0.016    0.000 C:\\Users\\joels\\AppData\\Roaming\\Python\\Python310\\site-packages\\ipykernel\\ipkernel.py:775(_clean_thread_parent_frames)\n",
      "      643    0.004    0.000    0.004    0.000 d:\\Software\\Python310\\lib\\threading.py:1478(enumerate)\n",
      "      380    0.003    0.000    0.003    0.000 {built-in method _heapq.heappop}\n",
      "      643    0.003    0.000    0.006    0.000 C:\\Users\\joels\\AppData\\Roaming\\Python\\Python310\\site-packages\\ipykernel\\ipkernel.py:790(<setcomp>)\n",
      "     3858    0.003    0.000    0.003    0.000 d:\\Software\\Python310\\lib\\threading.py:1145(ident)\n",
      "      380    0.001    0.000    0.007    0.000 d:\\Software\\Python310\\lib\\queue.py:154(get)\n",
      "      379    0.001    0.000    0.001    0.000 {method 'remove' of 'set' objects}\n",
      "      380    0.001    0.000    0.002    0.000 d:\\Software\\Python310\\lib\\queue.py:92(qsize)\n",
      "      380    0.001    0.000    0.001    0.000 d:\\Programming\\Python\\IME-IA-EPs\\EP-IA\\completeSentence.py:29(isGoal)\n",
      "     1140    0.001    0.000    0.001    0.000 d:\\Software\\Python310\\lib\\queue.py:232(_qsize)\n",
      "      380    0.001    0.000    0.001    0.000 d:\\Software\\Python310\\lib\\queue.py:97(empty)\n",
      "      379    0.000    0.000    0.000    0.000 {built-in method builtins.max}\n",
      "     2572    0.000    0.000    0.000    0.000 {method 'keys' of 'dict' objects}\n",
      "      380    0.000    0.000    0.003    0.000 d:\\Software\\Python310\\lib\\queue.py:238(_get)\n",
      "     1286    0.000    0.000    0.000    0.000 {method 'values' of 'dict' objects}\n",
      "      380    0.000    0.000    0.000    0.000 {method 'strip' of 'str' objects}\n",
      "     1162    0.000    0.000    0.000    0.000 {built-in method builtins.len}\n",
      "      379    0.000    0.000    0.000    0.000 {method 'add' of 'set' objects}\n",
      "     1302    0.000    0.000    0.000    0.000 {built-in method builtins.isinstance}\n",
      "      659    0.000    0.000    0.000    0.000 {method '__exit__' of '_thread.RLock' objects}\n",
      "       16    0.000    0.000    0.000    0.000 C:\\Users\\joels\\AppData\\Roaming\\Python\\Python310\\site-packages\\ipykernel\\iostream.py:655(write)\n",
      "        1    0.000    0.000    0.000    0.000 C:\\Users\\joels\\AppData\\Roaming\\Python\\Python310\\site-packages\\zmq\\sugar\\socket.py:626(send)\n",
      "        6    0.000    0.000    0.000    0.000 {built-in method builtins.print}\n",
      "        3    0.000    0.000    0.000    0.000 d:\\Software\\Python310\\lib\\threading.py:236(__init__)\n",
      "        1    0.000    0.000    0.000    0.000 d:\\Software\\Python310\\lib\\queue.py:34(__init__)\n",
      "        5    0.000    0.000    0.000    0.000 d:\\Programming\\Python\\IME-IA-EPs\\EP-IA\\utils.py:16(FindPath)\n",
      "       16    0.000    0.000    0.000    0.000 C:\\Users\\joels\\AppData\\Roaming\\Python\\Python310\\site-packages\\ipykernel\\iostream.py:550(_is_master_process)\n",
      "       16    0.000    0.000    0.000    0.000 C:\\Users\\joels\\AppData\\Roaming\\Python\\Python310\\site-packages\\ipykernel\\iostream.py:505(parent_header)\n",
      "        1    0.000    0.000    0.000    0.000 C:\\Users\\joels\\AppData\\Roaming\\Python\\Python310\\site-packages\\ipykernel\\iostream.py:259(schedule)\n",
      "        1    0.000    0.000    0.000    0.000 d:\\Programming\\Python\\IME-IA-EPs\\EP-IA\\completeSentence.py:21(initialState)\n",
      "       16    0.000    0.000    0.000    0.000 C:\\Users\\joels\\AppData\\Roaming\\Python\\Python310\\site-packages\\ipykernel\\iostream.py:577(_schedule_flush)\n",
      "        1    0.000    0.000    0.000    0.000 {built-in method _thread.allocate_lock}\n",
      "        1    0.000    0.000    0.000    0.000 d:\\Programming\\Python\\IME-IA-EPs\\EP-IA\\utils.py:58(print_search_result)\n",
      "        1    0.000    0.000    0.000    0.000 d:\\Software\\Python310\\lib\\cProfile.py:117(__exit__)\n",
      "        4    0.000    0.000    0.000    0.000 d:\\Programming\\Python\\IME-IA-EPs\\EP-IA\\utils.py:30(put)\n",
      "       16    0.000    0.000    0.000    0.000 {built-in method nt.getpid}\n",
      "        1    0.000    0.000    0.000    0.000 d:\\Software\\Python310\\lib\\threading.py:1169(is_alive)\n",
      "       16    0.000    0.000    0.000    0.000 {method 'write' of '_io.StringIO' objects}\n",
      "       16    0.000    0.000    0.000    0.000 {method 'get' of '_contextvars.ContextVar' objects}\n",
      "        1    0.000    0.000    0.000    0.000 C:\\Users\\joels\\AppData\\Roaming\\Python\\Python310\\site-packages\\ipykernel\\iostream.py:138(_event_pipe)\n",
      "        4    0.000    0.000    0.000    0.000 d:\\Programming\\Python\\IME-IA-EPs\\EP-IA\\utils.py:32(get)\n",
      "        5    0.000    0.000    0.000    0.000 d:\\Programming\\Python\\IME-IA-EPs\\EP-IA\\utils.py:36(empty)\n",
      "       16    0.000    0.000    0.000    0.000 {method 'items' of 'dict' objects}\n",
      "        4    0.000    0.000    0.000    0.000 {method 'pop' of 'list' objects}\n",
      "        1    0.000    0.000    0.000    0.000 d:\\Programming\\Python\\IME-IA-EPs\\EP-IA\\utils.py:28(__init__)\n",
      "        1    0.000    0.000    0.000    0.000 {method 'split' of 'str' objects}\n",
      "        1    0.000    0.000    0.000    0.000 d:\\Software\\Python310\\lib\\queue.py:229(_init)\n",
      "        1    0.000    0.000    0.000    0.000 d:\\Software\\Python310\\lib\\threading.py:1102(_wait_for_tstate_lock)\n",
      "        1    0.000    0.000    0.000    0.000 {method 'disable' of '_lsprof.Profiler' objects}\n",
      "        1    0.000    0.000    0.000    0.000 C:\\Users\\joels\\AppData\\Roaming\\Python\\Python310\\site-packages\\dateutil\\tz\\tz.py:74(utcoffset)\n",
      "        4    0.000    0.000    0.000    0.000 {method 'append' of 'list' objects}\n",
      "        1    0.000    0.000    0.000    0.000 d:\\Software\\Python310\\lib\\threading.py:553(is_set)\n",
      "        1    0.000    0.000    0.000    0.000 {method 'append' of 'collections.deque' objects}\n",
      "\n",
      "\n"
     ]
    }
   ],
   "source": [
    "import pstats\n",
    "stats = pstats.Stats(pr)\n",
    "stats.sort_stats(pstats.SortKey.TIME)\n",
    "stats.print_stats()\n",
    "stats.dump_stats(filename='profiling-cs1.prof')"
   ]
  },
  {
   "cell_type": "markdown",
   "id": "71277ca1-e55b-422d-9952-de46c9359487",
   "metadata": {},
   "source": [
    "Nós podemos tentar gerar frases mais longas fazendo uma busca em profundidade limitada. <br>\n",
    "As possíveis vantagens de utilizar essa busca, além de gerar uma frase mais longa, é utilizar menos memória. <br>\n",
    "A desvantagem é que não garantimos mais que encontraremos a resposta ótima. <br>"
   ]
  },
  {
   "cell_type": "code",
   "execution_count": 13,
   "id": "dafcec5d-782b-4c92-ab09-17d93258a5c0",
   "metadata": {
    "tags": []
   },
   "outputs": [
    {
     "name": "stdout",
     "output_type": "stream",
     "text": [
      "Maximum depth:  4\n",
      "Found the goal state after visiting 28117 states, its log-probability is 11.41470895111154. The queue ended with 26953 elements and its maximum size was 30292.\n",
      "The solution has 4 steps\n",
      "('<s>', '<s>', '<s>')\n",
      "('<s>', '<s>', '<s>', 'o')\n",
      "('<s>', '<s>', '<s>', 'o', 'que')\n",
      "('<s>', '<s>', '<s>', 'o', 'que', '?')\n",
      "Maximum depth:  5\n",
      "Found the goal state after visiting 5295 states, its log-probability is 10.903789143366282. The queue ended with 28005 elements and its maximum size was 29201.\n",
      "The solution has 5 steps\n",
      "('<s>', '<s>', '<s>')\n",
      "('<s>', '<s>', '<s>', 'o')\n",
      "('<s>', '<s>', '<s>', 'o', 'que')\n",
      "('<s>', '<s>', '<s>', 'o', 'que', 'é')\n",
      "('<s>', '<s>', '<s>', 'o', 'que', 'é', '?')\n",
      "Maximum depth:  6\n",
      "Found the goal state after visiting 18277 states, its log-probability is 16.894266646626637. The queue ended with 29067 elements and its maximum size was 30650.\n",
      "The solution has 6 steps\n",
      "('<s>', '<s>', '<s>')\n",
      "('<s>', '<s>', '<s>', 'o')\n",
      "('<s>', '<s>', '<s>', 'o', 'que')\n",
      "('<s>', '<s>', '<s>', 'o', 'que', 'é')\n",
      "('<s>', '<s>', '<s>', 'o', 'que', 'é', 'o')\n",
      "('<s>', '<s>', '<s>', 'o', 'que', 'é', 'o', '.')\n"
     ]
    }
   ],
   "source": [
    "for i in range(4, 7):\n",
    "    print(\"Maximum depth: \", i)\n",
    "    S2 = run_search(\"LimitedDepthSearch\", cs, i)\n",
    "    print_search_result(S2)"
   ]
  },
  {
   "cell_type": "markdown",
   "id": "153f5c73-5bec-4637-8f56-109c51b020c7",
   "metadata": {},
   "source": [
    "Um método comum para geração de sentenças é o Beam Search. <br>\n",
    "Esse algoritmo é um tipo de busca local e segue o pseudo-código à seguir: <br>"
   ]
  },
  {
   "cell_type": "markdown",
   "id": "d574b0bd-9288-48aa-841b-cd4b252a3ad9",
   "metadata": {},
   "source": [
    "Esse método é mais rápido que os anteriores e gera candidatas diferentes de resposta. <br>\n",
    "Suas desvantagens são que ele não possui garantias de encontrar a resposta ótima e nem que ele vai encontrar alguma resposta. <br>\n",
    "Como as respostas geradas são de tamanho diferente, a métrica utilizada para compará-las não é a probabilidade, mas sim a perplexidade. <br>\n",
    "Perplexidade de uma sentença é definida como o -log da probabilidade dessa sentença dividida pelo tamanho da sentença. <br>"
   ]
  },
  {
   "cell_type": "code",
   "execution_count": 14,
   "id": "9827b0e4-5950-4b1a-8066-77c388bd5466",
   "metadata": {
    "tags": []
   },
   "outputs": [
    {
     "name": "stdout",
     "output_type": "stream",
     "text": [
      "One goal found, there are 14 left\n",
      "One goal found, there are 13 left\n",
      "One goal found, there are 12 left\n",
      "One goal found, there are 11 left\n",
      "One goal found, there are 10 left\n",
      "Iteracao  10\n",
      "One goal found, there are 9 left\n",
      "One goal found, there are 8 left\n",
      "One goal found, there are 7 left\n",
      "One goal found, there are 6 left\n",
      "One goal found, there are 5 left\n",
      "One goal found, there are 4 left\n",
      "One goal found, there are 3 left\n",
      "One goal found, there are 2 left\n",
      "One goal found, there are 1 left\n",
      "One goal found, there are 0 left\n"
     ]
    }
   ],
   "source": [
    "S3 = run_search(\"BeamSearch\", cs, 15)"
   ]
  },
  {
   "cell_type": "markdown",
   "id": "f3563de2-74be-4b94-bf09-5121b728d621",
   "metadata": {},
   "source": [
    "O Beam Search retorna uma lista de triplas (histórico, probabilidade, perplexidade), onde histórico contém todos os estados que foram utilizados até chegar naquele estado meta. <br>\n",
    "Como a definição de estado varia de pessoa para pessoa, fica a cargo de vocês completar a função para que a sentença final seja apresentada corretamente. <br>"
   ]
  },
  {
   "cell_type": "code",
   "execution_count": 15,
   "id": "b1066ff5-5f11-4f6e-b898-5db4fce0ee2d",
   "metadata": {
    "tags": []
   },
   "outputs": [],
   "source": [
    "def print_beam_search(solutions):\n",
    "    \"\"\"\n",
    "    Change this function so that it prints the proper sentence from h\n",
    "    \"\"\"\n",
    "    for solution in solutions:\n",
    "        h, probability, perplexity = solution\n",
    "        # já que nosso estado é a frase parcial, basta imprimir o estado terminal\n",
    "        sentence = \"\"\n",
    "        final_state = h[-1]\n",
    "        for word in final_state:\n",
    "            sentence += word+\" \"\n",
    "        print(f\"The sentence: {sentence} has probability {probability:.2f}, size {len(h)}, thus {perplexity:.2f} of perplexity\")"
   ]
  },
  {
   "cell_type": "code",
   "execution_count": 16,
   "id": "b734f30b-1803-4170-8ae3-ab6e80b3e92f",
   "metadata": {
    "tags": []
   },
   "outputs": [
    {
     "name": "stdout",
     "output_type": "stream",
     "text": [
      "The sentence: <s> <s> <s> não , senhor . </s>  has probability 10.20, size 6, thus 1.70 of perplexity\n",
      "The sentence: <s> <s> <s> de acordo com a mesma coisa . </s>  has probability 13.88, size 9, thus 1.54 of perplexity\n",
      "The sentence: <s> <s> <s> de acordo com nota divulgada à imprensa . </s>  has probability 14.57, size 10, thus 1.46 of perplexity\n",
      "The sentence: <s> <s> <s> de acordo com nota divulgada pelo mpf . </s>  has probability 14.82, size 10, thus 1.48 of perplexity\n",
      "The sentence: <s> <s> <s> de acordo com dados do ministério do trabalho . </s>  has probability 15.71, size 11, thus 1.43 of perplexity\n",
      "The sentence: <s> <s> <s> de acordo com nota divulgada pelo ministério do trabalho . </s>  has probability 16.26, size 12, thus 1.35 of perplexity\n",
      "The sentence: <s> <s> <s> de acordo com dados do ministério do trabalho escravo . </s>  has probability 16.60, size 12, thus 1.38 of perplexity\n",
      "The sentence: <s> <s> <s> de acordo com dados do ministério público do trabalho . </s>  has probability 17.03, size 12, thus 1.42 of perplexity\n",
      "The sentence: <s> <s> <s> de acordo com nota divulgada pelo ministério público do trabalho . </s>  has probability 17.11, size 13, thus 1.32 of perplexity\n",
      "The sentence: <s> <s> <s> de acordo com nota divulgada pelo ministério público do trabalho escravo . </s>  has probability 18.01, size 14, thus 1.29 of perplexity\n",
      "The sentence: <s> <s> <s> de acordo com nota divulgada pelo ministério do trabalho e emprego . </s>  has probability 18.25, size 14, thus 1.30 of perplexity\n",
      "The sentence: <s> <s> <s> de acordo com nota divulgada pelo ministério público do trabalho e emprego . </s>  has probability 19.11, size 15, thus 1.27 of perplexity\n",
      "The sentence: <s> <s> <s> de acordo com nota divulgada pelo ministério público do trabalho e emprego mte . </s>  has probability 20.47, size 16, thus 1.28 of perplexity\n",
      "The sentence: <s> <s> <s> de acordo com nota divulgada pelo ministério do trabalho e emprego de são paulo . </s>  has probability 21.24, size 17, thus 1.25 of perplexity\n",
      "The sentence: <s> <s> <s> de acordo com nota divulgada pelo ministério público do trabalho e emprego e renda . </s>  has probability 22.07, size 17, thus 1.30 of perplexity\n"
     ]
    }
   ],
   "source": [
    "print_beam_search(S3)"
   ]
  },
  {
   "cell_type": "markdown",
   "id": "b6665b78-ead6-4e52-8732-bf07c1b4bf46",
   "metadata": {},
   "source": [
    "Note que agora a função deixou de ser monotônica: ao expandirmos um nó, os filhos dele podem ter custo menor que do filho."
   ]
  },
  {
   "cell_type": "markdown",
   "id": "ee842dd3-9f1b-4b32-a1e1-03935b7b8927",
   "metadata": {},
   "source": [
    "# Parte 4: Mudando o problema"
   ]
  },
  {
   "cell_type": "markdown",
   "id": "81682dc7-c63f-4080-9c72-e973bc8f63ff",
   "metadata": {},
   "source": [
    "Implemente a classe CompleteSentencePerplexity para que agora possamos executar um problema de busca utilizando a perplexidade ao invés da probabilidade. <br>"
   ]
  },
  {
   "cell_type": "markdown",
   "id": "a2cc167a-d80c-455a-8d6e-6d6d75926f85",
   "metadata": {},
   "source": [
    "O resultado das próximas duas células deve ser exatamente igual ao do anterior."
   ]
  },
  {
   "cell_type": "code",
   "execution_count": 17,
   "id": "f3407ee9-984f-475c-a310-d09150bc8557",
   "metadata": {
    "tags": []
   },
   "outputs": [
    {
     "name": "stdout",
     "output_type": "stream",
     "text": [
      "Our vocabulary is made of approximately 140683 different words\n",
      "Our model was made based on 353096 sentences\n",
      "We have 3748964 instances of 3-grams and 1443434 instances of 2-grams\n"
     ]
    }
   ],
   "source": [
    "cs2 = CompleteSentence2(text3, N, \"<s> <s> <s>\")"
   ]
  },
  {
   "cell_type": "code",
   "execution_count": 18,
   "id": "104b782a-e8ce-4127-b28f-6316916387a8",
   "metadata": {
    "tags": []
   },
   "outputs": [
    {
     "data": {
      "text/plain": [
       "('<s>', '<s>', '<s>')"
      ]
     },
     "execution_count": 18,
     "metadata": {},
     "output_type": "execute_result"
    }
   ],
   "source": [
    "cs2.initialState()"
   ]
  },
  {
   "cell_type": "code",
   "execution_count": 19,
   "id": "a5478403-ca2c-4978-afdc-effebba4222d",
   "metadata": {
    "tags": []
   },
   "outputs": [
    {
     "name": "stdout",
     "output_type": "stream",
     "text": [
      "The initial state has a branching factor of 21977.\n"
     ]
    }
   ],
   "source": [
    "initial = cs2.initialState()\n",
    "options = cs2.actions(initial)\n",
    "print(f\"The initial state has a branching factor of {len(options)}.\")"
   ]
  },
  {
   "cell_type": "markdown",
   "id": "0b3c3811-b8a7-457e-846a-8032f6d5981d",
   "metadata": {},
   "source": [
    "O resultado da próxima célula deve ser como o da vez anterior, mas com todos os custos divididos pela mesma constante."
   ]
  },
  {
   "cell_type": "code",
   "execution_count": 20,
   "id": "aec599cd-61a1-48fe-9896-1bd52ac02076",
   "metadata": {
    "tags": []
   },
   "outputs": [
    {
     "name": "stdout",
     "output_type": "stream",
     "text": [
      "('<s>', '<s>', '<s>') ---'inocentes'---> ('<s>', '<s>', '<s>', 'inocentes') costs 3.19\n",
      "('<s>', '<s>', '<s>') ---'tranqüilizado'---> ('<s>', '<s>', '<s>', 'tranqüilizado') costs 3.19\n",
      "('<s>', '<s>', '<s>') ---'contos'---> ('<s>', '<s>', '<s>', 'contos') costs 2.79\n",
      "('<s>', '<s>', '<s>') ---'perdoa'---> ('<s>', '<s>', '<s>', 'perdoa') costs 2.46\n",
      "('<s>', '<s>', '<s>') ---'tetra'---> ('<s>', '<s>', '<s>', 'tetra') costs 3.19\n",
      "('<s>', '<s>', '<s>') ---'carlotaqueria'---> ('<s>', '<s>', '<s>', 'carlotaqueria') costs 3.02\n",
      "There may be more actions, but we are stopping here...\n"
     ]
    }
   ],
   "source": [
    "for index, op in enumerate(options):\n",
    "    v = cs2.result(initial, op)\n",
    "    print(f\"{initial} ---'{op}'---> {v} costs {cs2.cost(initial, op, v):.2f}\")\n",
    "    if index == 5:\n",
    "        print(\"There may be more actions, but we are stopping here...\")\n",
    "        break"
   ]
  },
  {
   "cell_type": "markdown",
   "id": "3985c39b-ea92-495c-bf29-6994b5d3f3d7",
   "metadata": {},
   "source": [
    "A próxima celula deve continuar dando os mesmos resultados do anterior."
   ]
  },
  {
   "cell_type": "code",
   "execution_count": 21,
   "id": "c816e5a0-92f6-4ab7-94c9-86d632a45966",
   "metadata": {
    "tags": []
   },
   "outputs": [],
   "source": [
    "fake_goal = cs2.initialState()\n",
    "true_goal = cs2.result(cs2.result(fake_goal, \".\"), \"</s>\")\n",
    "assert cs2.isGoal(fake_goal) == False, \"Initial state is not a goal\"\n",
    "assert cs2.isGoal(true_goal) == True, f\"The state {true_goal} is a goal\""
   ]
  },
  {
   "cell_type": "markdown",
   "id": "6f6522bc-5ff5-4a72-9bbf-7d07c3cb4726",
   "metadata": {},
   "source": [
    "# Parte 5: reexecutando as buscas"
   ]
  },
  {
   "cell_type": "markdown",
   "id": "0be93716-9254-49eb-ab87-45879edc48d1",
   "metadata": {},
   "source": [
    "Com essa nossa nova função de custo, a busca por custo uniforme não mais garante resposta ótima, já que uma alternativa ruim pode gerar descendentes melhores."
   ]
  },
  {
   "cell_type": "code",
   "execution_count": 22,
   "id": "3c838207-8cfa-4a1d-aeb5-1c02dda35432",
   "metadata": {
    "tags": []
   },
   "outputs": [
    {
     "name": "stdout",
     "output_type": "stream",
     "text": [
      "Found the goal state after visiting 117 states, its log-probability is 1.1977831338741085. The queue ended with 148625 elements and its maximum size was 148626.\n",
      "The solution has 5 steps\n",
      "('<s>', '<s>', '<s>')\n",
      "('<s>', '<s>', '<s>', 'ao')\n",
      "('<s>', '<s>', '<s>', 'ao', 'mesmo')\n",
      "('<s>', '<s>', '<s>', 'ao', 'mesmo', 'tempo')\n",
      "('<s>', '<s>', '<s>', 'ao', 'mesmo', 'tempo', '.')\n"
     ]
    }
   ],
   "source": [
    "import cProfile\n",
    "with cProfile.Profile() as pr:\n",
    "    S4 = run_search(\"UniformCost\", cs2)\n",
    "    print_search_result(S4)"
   ]
  },
  {
   "cell_type": "code",
   "execution_count": 23,
   "id": "45566ea6",
   "metadata": {},
   "outputs": [
    {
     "name": "stdout",
     "output_type": "stream",
     "text": [
      "         5071679 function calls in 15.093 seconds\n",
      "\n",
      "   Ordered by: internal time\n",
      "\n",
      "   ncalls  tottime  percall  cumtime  percall filename:lineno(function)\n",
      "      116    9.230    0.080    9.230    0.080 d:\\Programming\\Python\\IME-IA-EPs\\EP-IA\\completeSentence2.py:52(<listcomp>)\n",
      "   148741    1.408    0.000    2.993    0.000 d:\\Programming\\Python\\IME-IA-EPs\\EP-IA\\completeSentence2.py:60(cost)\n",
      "        1    1.049    1.049   15.051   15.051 d:\\Programming\\Python\\IME-IA-EPs\\EP-IA\\Searches.py:5(UniformCostSearch)\n",
      "      116    0.865    0.007    0.865    0.007 {method 'copy' of 'set' objects}\n",
      "   297482    0.824    0.000    1.271    0.000 d:\\Software\\Python310\\lib\\site-packages\\nltk\\util.py:823(ngrams)\n",
      "   148742    0.323    0.000    0.854    0.000 d:\\Software\\Python310\\lib\\queue.py:122(put)\n",
      "   891205    0.278    0.000    0.278    0.000 {built-in method math.log}\n",
      "   297482    0.152    0.000    0.170    0.000 {built-in method itertools.tee}\n",
      "   297482    0.119    0.000    0.167    0.000 d:\\Software\\Python310\\lib\\site-packages\\nltk\\util.py:780(pad_sequence)\n",
      "   892446    0.106    0.000    0.106    0.000 {built-in method builtins.next}\n",
      "   148859    0.096    0.000    0.205    0.000 d:\\Software\\Python310\\lib\\threading.py:359(notify)\n",
      "   148742    0.082    0.000    0.082    0.000 {built-in method _heapq.heappush}\n",
      "   148859    0.066    0.000    0.109    0.000 d:\\Software\\Python310\\lib\\threading.py:279(_is_owned)\n",
      "   148859    0.063    0.000    0.103    0.000 d:\\Software\\Python310\\lib\\threading.py:264(__enter__)\n",
      "   148742    0.060    0.000    0.143    0.000 d:\\Software\\Python310\\lib\\queue.py:235(_put)\n",
      "   148859    0.060    0.000    0.081    0.000 d:\\Software\\Python310\\lib\\threading.py:267(__exit__)\n",
      "   148741    0.055    0.000    0.055    0.000 d:\\Programming\\Python\\IME-IA-EPs\\EP-IA\\completeSentence2.py:53(result)\n",
      "   297482    0.048    0.000    0.048    0.000 {built-in method builtins.iter}\n",
      "   148860    0.043    0.000    0.043    0.000 {method 'acquire' of '_thread.lock' objects}\n",
      "        1    0.042    0.042   15.093   15.093 d:\\Programming\\Python\\IME-IA-EPs\\EP-IA\\Searches.py:111(run_search)\n",
      "   148859    0.040    0.000    0.040    0.000 {method '__enter__' of '_thread.lock' objects}\n",
      "   297858    0.035    0.000    0.035    0.000 {built-in method builtins.len}\n",
      "   149093    0.021    0.000    0.021    0.000 {method '__exit__' of '_thread.lock' objects}\n",
      "     1282    0.008    0.000    0.022    0.000 C:\\Users\\joels\\AppData\\Roaming\\Python\\Python310\\site-packages\\ipykernel\\ipkernel.py:775(_clean_thread_parent_frames)\n",
      "     3846    0.005    0.000    0.005    0.000 d:\\Software\\Python310\\lib\\threading.py:1145(ident)\n",
      "      641    0.004    0.000    0.005    0.000 d:\\Software\\Python310\\lib\\threading.py:1478(enumerate)\n",
      "      641    0.004    0.000    0.008    0.000 C:\\Users\\joels\\AppData\\Roaming\\Python\\Python310\\site-packages\\ipykernel\\ipkernel.py:790(<setcomp>)\n",
      "      116    0.003    0.000   10.098    0.087 d:\\Programming\\Python\\IME-IA-EPs\\EP-IA\\completeSentence2.py:36(actions)\n",
      "      117    0.001    0.000    0.001    0.000 {built-in method _heapq.heappop}\n",
      "     2564    0.000    0.000    0.000    0.000 {method 'keys' of 'dict' objects}\n",
      "      117    0.000    0.000    0.002    0.000 d:\\Software\\Python310\\lib\\queue.py:154(get)\n",
      "     1282    0.000    0.000    0.000    0.000 {method 'values' of 'dict' objects}\n",
      "      117    0.000    0.000    0.000    0.000 d:\\Software\\Python310\\lib\\queue.py:92(qsize)\n",
      "      116    0.000    0.000    0.000    0.000 {method 'remove' of 'set' objects}\n",
      "      117    0.000    0.000    0.000    0.000 d:\\Software\\Python310\\lib\\queue.py:97(empty)\n",
      "      659    0.000    0.000    0.000    0.000 {method '__exit__' of '_thread.RLock' objects}\n",
      "     1300    0.000    0.000    0.000    0.000 {built-in method builtins.isinstance}\n",
      "      117    0.000    0.000    0.000    0.000 d:\\Programming\\Python\\IME-IA-EPs\\EP-IA\\completeSentence2.py:30(isGoal)\n",
      "      351    0.000    0.000    0.000    0.000 d:\\Software\\Python310\\lib\\queue.py:232(_qsize)\n",
      "       18    0.000    0.000    0.000    0.000 C:\\Users\\joels\\AppData\\Roaming\\Python\\Python310\\site-packages\\ipykernel\\iostream.py:655(write)\n",
      "      116    0.000    0.000    0.000    0.000 {method 'add' of 'set' objects}\n",
      "      116    0.000    0.000    0.000    0.000 {built-in method builtins.max}\n",
      "      117    0.000    0.000    0.000    0.000 {method 'strip' of 'str' objects}\n",
      "      117    0.000    0.000    0.001    0.000 d:\\Software\\Python310\\lib\\queue.py:238(_get)\n",
      "        1    0.000    0.000    0.000    0.000 C:\\Users\\joels\\AppData\\Roaming\\Python\\Python310\\site-packages\\zmq\\sugar\\socket.py:626(send)\n",
      "        3    0.000    0.000    0.000    0.000 d:\\Software\\Python310\\lib\\threading.py:236(__init__)\n",
      "        7    0.000    0.000    0.000    0.000 {built-in method builtins.print}\n",
      "        6    0.000    0.000    0.000    0.000 d:\\Programming\\Python\\IME-IA-EPs\\EP-IA\\utils.py:16(FindPath)\n",
      "        1    0.000    0.000    0.000    0.000 d:\\Software\\Python310\\lib\\queue.py:34(__init__)\n",
      "       18    0.000    0.000    0.000    0.000 C:\\Users\\joels\\AppData\\Roaming\\Python\\Python310\\site-packages\\ipykernel\\iostream.py:550(_is_master_process)\n",
      "       18    0.000    0.000    0.000    0.000 C:\\Users\\joels\\AppData\\Roaming\\Python\\Python310\\site-packages\\ipykernel\\iostream.py:505(parent_header)\n",
      "        1    0.000    0.000    0.000    0.000 C:\\Users\\joels\\AppData\\Roaming\\Python\\Python310\\site-packages\\ipykernel\\iostream.py:259(schedule)\n",
      "        5    0.000    0.000    0.000    0.000 d:\\Programming\\Python\\IME-IA-EPs\\EP-IA\\utils.py:30(put)\n",
      "        1    0.000    0.000    0.000    0.000 {built-in method _thread.allocate_lock}\n",
      "        1    0.000    0.000    0.000    0.000 d:\\Programming\\Python\\IME-IA-EPs\\EP-IA\\completeSentence2.py:22(initialState)\n",
      "       18    0.000    0.000    0.000    0.000 C:\\Users\\joels\\AppData\\Roaming\\Python\\Python310\\site-packages\\ipykernel\\iostream.py:577(_schedule_flush)\n",
      "        1    0.000    0.000    0.000    0.000 d:\\Programming\\Python\\IME-IA-EPs\\EP-IA\\utils.py:58(print_search_result)\n",
      "       18    0.000    0.000    0.000    0.000 {built-in method nt.getpid}\n",
      "        1    0.000    0.000    0.000    0.000 d:\\Software\\Python310\\lib\\threading.py:1169(is_alive)\n",
      "        1    0.000    0.000    0.000    0.000 d:\\Software\\Python310\\lib\\cProfile.py:117(__exit__)\n",
      "       18    0.000    0.000    0.000    0.000 {method 'write' of '_io.StringIO' objects}\n",
      "        5    0.000    0.000    0.000    0.000 d:\\Programming\\Python\\IME-IA-EPs\\EP-IA\\utils.py:32(get)\n",
      "        5    0.000    0.000    0.000    0.000 {method 'pop' of 'list' objects}\n",
      "        6    0.000    0.000    0.000    0.000 d:\\Programming\\Python\\IME-IA-EPs\\EP-IA\\utils.py:36(empty)\n",
      "       18    0.000    0.000    0.000    0.000 {method 'items' of 'dict' objects}\n",
      "       18    0.000    0.000    0.000    0.000 {method 'get' of '_contextvars.ContextVar' objects}\n",
      "        1    0.000    0.000    0.000    0.000 C:\\Users\\joels\\AppData\\Roaming\\Python\\Python310\\site-packages\\ipykernel\\iostream.py:138(_event_pipe)\n",
      "        1    0.000    0.000    0.000    0.000 d:\\Programming\\Python\\IME-IA-EPs\\EP-IA\\utils.py:28(__init__)\n",
      "        1    0.000    0.000    0.000    0.000 d:\\Software\\Python310\\lib\\threading.py:1102(_wait_for_tstate_lock)\n",
      "        1    0.000    0.000    0.000    0.000 {method 'split' of 'str' objects}\n",
      "        5    0.000    0.000    0.000    0.000 {method 'append' of 'list' objects}\n",
      "        1    0.000    0.000    0.000    0.000 {method 'disable' of '_lsprof.Profiler' objects}\n",
      "        1    0.000    0.000    0.000    0.000 d:\\Software\\Python310\\lib\\queue.py:229(_init)\n",
      "        1    0.000    0.000    0.000    0.000 d:\\Software\\Python310\\lib\\threading.py:553(is_set)\n",
      "        1    0.000    0.000    0.000    0.000 C:\\Users\\joels\\AppData\\Roaming\\Python\\Python310\\site-packages\\dateutil\\tz\\tz.py:74(utcoffset)\n",
      "        1    0.000    0.000    0.000    0.000 {method 'append' of 'collections.deque' objects}\n",
      "\n",
      "\n"
     ]
    }
   ],
   "source": [
    "import pstats\n",
    "stats = pstats.Stats(pr)\n",
    "stats.sort_stats(pstats.SortKey.TIME)\n",
    "stats.print_stats()\n",
    "stats.dump_stats(filename='profiling-cs2.prof')"
   ]
  },
  {
   "cell_type": "markdown",
   "id": "6d07fa6e-82c2-4af9-862d-46ac34486567",
   "metadata": {
    "tags": []
   },
   "source": [
    "A Busca em Profundidade Iterativa continua com todas as mesmas propriedades, já que todos os elementos são comparados pelo nível que estão na árvore de busca."
   ]
  },
  {
   "cell_type": "code",
   "execution_count": 24,
   "id": "97632d7e-db98-4d50-a7cc-990920e29fe3",
   "metadata": {
    "tags": []
   },
   "outputs": [
    {
     "name": "stdout",
     "output_type": "stream",
     "text": [
      "Maximum depth:  4\n",
      "Found the goal state after visiting 28117 states, its log-probability is 1.6306727073016487. The queue ended with 26953 elements and its maximum size was 30292.\n",
      "The solution has 4 steps\n",
      "('<s>', '<s>', '<s>')\n",
      "('<s>', '<s>', '<s>', 'o')\n",
      "('<s>', '<s>', '<s>', 'o', 'que')\n",
      "('<s>', '<s>', '<s>', 'o', 'que', '?')\n",
      "Maximum depth:  5\n",
      "Found the goal state after visiting 5295 states, its log-probability is 1.3629736429207853. The queue ended with 28005 elements and its maximum size was 29201.\n",
      "The solution has 5 steps\n",
      "('<s>', '<s>', '<s>')\n",
      "('<s>', '<s>', '<s>', 'o')\n",
      "('<s>', '<s>', '<s>', 'o', 'que')\n",
      "('<s>', '<s>', '<s>', 'o', 'que', 'é')\n",
      "('<s>', '<s>', '<s>', 'o', 'que', 'é', '?')\n",
      "Maximum depth:  6\n",
      "Found the goal state after visiting 18277 states, its log-probability is 1.8771407385140708. The queue ended with 29067 elements and its maximum size was 30650.\n",
      "The solution has 6 steps\n",
      "('<s>', '<s>', '<s>')\n",
      "('<s>', '<s>', '<s>', 'o')\n",
      "('<s>', '<s>', '<s>', 'o', 'que')\n",
      "('<s>', '<s>', '<s>', 'o', 'que', 'é')\n",
      "('<s>', '<s>', '<s>', 'o', 'que', 'é', 'o')\n",
      "('<s>', '<s>', '<s>', 'o', 'que', 'é', 'o', '.')\n"
     ]
    }
   ],
   "source": [
    "for i in range(4, 7):\n",
    "    print(\"Maximum depth: \", i)\n",
    "    S5 = run_search(\"LimitedDepthSearch\", cs2, i)\n",
    "    print_search_result(S5)"
   ]
  },
  {
   "cell_type": "markdown",
   "id": "6f5d065f-c31e-4df3-a656-dd7674acf9f4",
   "metadata": {
    "tags": []
   },
   "source": [
    "O Beam Search também continua encontrando as mesmas respostas que anteriormente, pois em toda iteração todas as candidatas possuem mesmo tamanho."
   ]
  },
  {
   "cell_type": "code",
   "execution_count": 25,
   "id": "b0c349af-fece-482e-ba57-7b80e7123adf",
   "metadata": {},
   "outputs": [
    {
     "name": "stdout",
     "output_type": "stream",
     "text": [
      "One goal found, there are 14 left\n",
      "One goal found, there are 13 left\n",
      "One goal found, there are 12 left\n",
      "One goal found, there are 11 left\n",
      "One goal found, there are 10 left\n",
      "Iteracao  10\n",
      "One goal found, there are 9 left\n",
      "One goal found, there are 8 left\n",
      "One goal found, there are 7 left\n",
      "One goal found, there are 6 left\n",
      "One goal found, there are 5 left\n",
      "One goal found, there are 4 left\n",
      "One goal found, there are 3 left\n",
      "One goal found, there are 2 left\n",
      "One goal found, there are 1 left\n",
      "One goal found, there are 0 left\n"
     ]
    }
   ],
   "source": [
    "S = run_search(\"BeamSearch\", cs2, 15)"
   ]
  },
  {
   "cell_type": "code",
   "execution_count": 26,
   "id": "e1c2108f-d757-436a-87cf-8eaabeceb6e2",
   "metadata": {},
   "outputs": [],
   "source": [
    "def print_beam_search2(solutions):\n",
    "    \"\"\"\n",
    "    Change this function so that it prints the proper sentence from h\n",
    "    \"\"\"\n",
    "    for solution in solutions:\n",
    "        h, probability, perplexity = solution\n",
    "        sentence = \"\"\n",
    "        # já que nosso estado é a frase parcial, basta imprimir o estado terminal\n",
    "        final_state = h[-1]\n",
    "        for word in final_state:\n",
    "            sentence += word+\" \"\n",
    "        print(f\"The sentence: {sentence} has probability {probability:.2f}, size {len(h)}, thus {perplexity:.2f} of perplexity\")"
   ]
  },
  {
   "cell_type": "code",
   "execution_count": 27,
   "id": "668f12f3-0200-4a90-b42e-08d3885e8542",
   "metadata": {
    "tags": []
   },
   "outputs": [
    {
     "name": "stdout",
     "output_type": "stream",
     "text": [
      "The sentence: <s> <s> <s> não , senhor . </s>  has probability 1.27, size 6, thus 0.21 of perplexity\n",
      "The sentence: <s> <s> <s> de acordo com a mesma coisa . </s>  has probability 1.26, size 9, thus 0.14 of perplexity\n",
      "The sentence: <s> <s> <s> de acordo com nota divulgada à imprensa . </s>  has probability 1.21, size 10, thus 0.12 of perplexity\n",
      "The sentence: <s> <s> <s> de acordo com nota divulgada pelo mpf . </s>  has probability 1.24, size 10, thus 0.12 of perplexity\n",
      "The sentence: <s> <s> <s> de acordo com dados do ministério do trabalho . </s>  has probability 1.21, size 11, thus 0.11 of perplexity\n",
      "The sentence: <s> <s> <s> de acordo com nota divulgada pelo ministério do trabalho . </s>  has probability 1.16, size 12, thus 0.10 of perplexity\n",
      "The sentence: <s> <s> <s> de acordo com dados do ministério do trabalho escravo . </s>  has probability 1.19, size 12, thus 0.10 of perplexity\n",
      "The sentence: <s> <s> <s> de acordo com dados do ministério público do trabalho . </s>  has probability 1.22, size 12, thus 0.10 of perplexity\n",
      "The sentence: <s> <s> <s> de acordo com nota divulgada pelo ministério público do trabalho . </s>  has probability 1.14, size 13, thus 0.09 of perplexity\n",
      "The sentence: <s> <s> <s> de acordo com nota divulgada pelo ministério público do trabalho escravo . </s>  has probability 1.13, size 14, thus 0.08 of perplexity\n",
      "The sentence: <s> <s> <s> de acordo com nota divulgada pelo ministério do trabalho e emprego . </s>  has probability 1.14, size 14, thus 0.08 of perplexity\n",
      "The sentence: <s> <s> <s> de acordo com nota divulgada pelo ministério público do trabalho e emprego . </s>  has probability 1.12, size 15, thus 0.07 of perplexity\n",
      "The sentence: <s> <s> <s> de acordo com nota divulgada pelo ministério público do trabalho e emprego mte . </s>  has probability 1.14, size 16, thus 0.07 of perplexity\n",
      "The sentence: <s> <s> <s> de acordo com nota divulgada pelo ministério do trabalho e emprego de são paulo . </s>  has probability 1.12, size 17, thus 0.07 of perplexity\n",
      "The sentence: <s> <s> <s> de acordo com nota divulgada pelo ministério público do trabalho e emprego e renda . </s>  has probability 1.16, size 17, thus 0.07 of perplexity\n"
     ]
    }
   ],
   "source": [
    "print_beam_search2(S)"
   ]
  },
  {
   "cell_type": "code",
   "execution_count": null,
   "id": "9050ebeb-0da9-4c7d-a517-53b0d5e707a5",
   "metadata": {},
   "outputs": [],
   "source": []
  }
 ],
 "metadata": {
  "kernelspec": {
   "display_name": "Python 3 (ipykernel)",
   "language": "python",
   "name": "python3"
  },
  "language_info": {
   "codemirror_mode": {
    "name": "ipython",
    "version": 3
   },
   "file_extension": ".py",
   "mimetype": "text/x-python",
   "name": "python",
   "nbconvert_exporter": "python",
   "pygments_lexer": "ipython3",
   "version": "3.10.11"
  }
 },
 "nbformat": 4,
 "nbformat_minor": 5
}
