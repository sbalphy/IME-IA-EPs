{
 "cells": [
  {
   "cell_type": "markdown",
   "id": "450ae53d-90a1-43b8-b760-99d4074ee2a8",
   "metadata": {},
   "source": [
    "# Parte 1: carregando a base de dados e criando o problema."
   ]
  },
  {
   "cell_type": "markdown",
   "id": "465e160b-ebbb-4973-a409-2b1d3a4c6d68",
   "metadata": {},
   "source": [
    "Primeiro, vamos importar três funções: <br>\n",
    "- read_documents, responsável por puxar os textos da base de dados. <br>\n",
    "- print_search_result, responsável por\n",
    "- run_search, responsável por executar alguma busca especificada pelo usuário. <br>"
   ]
  },
  {
   "cell_type": "markdown",
   "id": "949400a3-1b46-4e76-89cc-4e9b71eefcb8",
   "metadata": {},
   "source": [
    "Depois, importaremos duas classes: <br>\n",
    "- LanguageModel, responsável por administrar a criação do modelo de linguagem com seus n-gramas.\n",
    "- CompleteSentence, que herda de LanguageModel e faz a interface com o problema de busca."
   ]
  },
  {
   "cell_type": "code",
   "execution_count": null,
   "id": "6d94e3ad-d28b-44d8-8561-d83b002ed62d",
   "metadata": {
    "tags": []
   },
   "outputs": [],
   "source": [
    "from utils import read_documents, print_search_result\n",
    "from Searches import run_search\n",
    "from UpperClasses import LanguageModel\n",
    "from completeSentence import CompleteSentence\n",
    "from completeSentence2 import CompleteSentence2"
   ]
  },
  {
   "cell_type": "markdown",
   "id": "e4ddf72f-3f0b-40b6-9ffa-9904696fac77",
   "metadata": {},
   "source": [
    "   As opções que temos de documentos são, em ordem crescente de tamanho:\n",
    "- \"safatle\"\n",
    "- \"flor\"\n",
    "- \"mmorpho\"\n",
    "- \"saka\"\n",
    "- \"machado\"\n",
    "- \"todos\", a agregação de todos os anteriores.\n"
   ]
  },
  {
   "cell_type": "markdown",
   "id": "2423c2d7-4481-44c0-a092-10e4571a59c8",
   "metadata": {},
   "source": [
    "A seguir, precisamos definir um N para o nosso modelo. Note que o modelo também cria os (N-1)-grama para podermos, no futuro, calcular a probabilidade condicional de um dado N-grama."
   ]
  },
  {
   "cell_type": "code",
   "execution_count": null,
   "id": "984de342-2016-4cab-b34e-7c41af44d016",
   "metadata": {
    "tags": []
   },
   "outputs": [],
   "source": [
    "N = 3\n",
    "print(f\"Creating a {N}-gram Language Model based on safatle document\")\n",
    "text1 = read_documents(\"safatle\")\n",
    "model1 = LanguageModel(text1, N)"
   ]
  },
  {
   "cell_type": "code",
   "execution_count": null,
   "id": "19e02fae-f1d5-4070-ae36-c873317f37dd",
   "metadata": {},
   "outputs": [],
   "source": [
    "print(f\"Creating a {N}-gram Language Model based on machado document\")\n",
    "text2 = read_documents(\"machado\")\n",
    "model2 = LanguageModel(text2, N)"
   ]
  },
  {
   "cell_type": "code",
   "execution_count": null,
   "id": "f7cf66fd-6f54-4a34-a42a-3e64ad2114d6",
   "metadata": {},
   "outputs": [],
   "source": [
    "print(f\"Creating a {N}-gram Language Model based on all documents\")\n",
    "text3 = read_documents(\"all\")\n",
    "model3 = LanguageModel(text3, N)"
   ]
  },
  {
   "cell_type": "markdown",
   "id": "fe91074e-e10b-488d-8734-925d2b5c7220",
   "metadata": {},
   "source": [
    "Com esses modelos, nós podemos acessar a contagem de cada N e (N-1)-gramas."
   ]
  },
  {
   "cell_type": "code",
   "execution_count": null,
   "id": "f7a78327-bee0-4a8f-a190-ca54424b02cc",
   "metadata": {
    "tags": []
   },
   "outputs": [],
   "source": [
    "most_common_count = model3.n_grams.most_common(1)[0]\n",
    "print(f\"The most common n-gram together with its count was: {most_common_count}\")\n",
    "most_common = most_common_count[0]\n",
    "most_common_smaller = model3.n_grams_smaller.most_common()[0][0]\n",
    "print(f\"In the first model, the n-gram {most_common} occurs {model1.n_grams[most_common]}, and the (n-1)-gram {most_common_smaller} occurs {model1.n_grams_smaller[most_common_smaller]}\")\n",
    "print(f\"In the second model, the n-gram {most_common} occurs {model2.n_grams[most_common]}, and the (n-1)-gram {most_common_smaller} occurs {model2.n_grams_smaller[most_common_smaller]}\")\n",
    "print(f\"In the third model, the n-gram {most_common} occurs {model3.n_grams[most_common]}, and the (n-1)-gram {most_common_smaller} occurs {model3.n_grams_smaller[most_common_smaller]}\")"
   ]
  },
  {
   "cell_type": "markdown",
   "id": "30b3126d-a94e-43af-8ff5-707b26285c5c",
   "metadata": {},
   "source": [
    "# Parte 2: modelando como busca."
   ]
  },
  {
   "cell_type": "markdown",
   "id": "5e97a077-da0c-4c53-8910-4873e6d55f9e",
   "metadata": {},
   "source": [
    "Nós iremos agora definir completar uma frase como um problema de busca. <br>\n",
    "A nossa classe CompleteSentence herda de Language Model, por isso sua inicialização será semelhante ao que vimos anteriormente. <br>\n",
    "Para sua inicialização precisaremos de três parâmetros: um documento (string), um N (int), e uma sentença (string). "
   ]
  },
  {
   "cell_type": "code",
   "execution_count": null,
   "id": "b7062819-e199-4cbe-8655-52450f50700c",
   "metadata": {},
   "outputs": [],
   "source": [
    "cs = CompleteSentence(text3, N, \"<s> <s> <s>\")"
   ]
  },
  {
   "cell_type": "markdown",
   "id": "98b9b1f1-bdab-4d9c-822d-0dcc59c1f215",
   "metadata": {},
   "source": [
    "A classe CompleteSentence também herda da classe Problem vista em aula. <br>\n",
    "Existem 5 funções herdadas que devem ser implementadas. <br>\n",
    "A primeira é a initialState(), que deve retornar um estado baseado na frase inicial passada no momento da instanciação do objeto."
   ]
  },
  {
   "cell_type": "code",
   "execution_count": null,
   "id": "cc2e31dd-7735-427b-a90d-b1dbf944637d",
   "metadata": {},
   "outputs": [],
   "source": [
    "print(f\"The initial state of the problem is: {cs.initialState()}\")"
   ]
  },
  {
   "cell_type": "markdown",
   "id": "d22a4dc5-6ae4-4200-aedc-b3a2184c5f3e",
   "metadata": {},
   "source": [
    "A segunda função é a actions(state), a qual deve retornar todas as ações que podem ser efetuadas sobre state."
   ]
  },
  {
   "cell_type": "code",
   "execution_count": null,
   "id": "4ce44877-0b89-4833-81e4-3faa2ae3e033",
   "metadata": {
    "tags": []
   },
   "outputs": [],
   "source": [
    "initial = cs.initialState()\n",
    "options = cs.actions(initial)\n",
    "print(f\"The initial state has a branching factor of {len(options)}.\")"
   ]
  },
  {
   "cell_type": "markdown",
   "id": "235033c9-d89e-4e02-ba6e-c2231a57667b",
   "metadata": {
    "tags": []
   },
   "source": [
    "A terceira e a quarta função são a result(state, action) e cost(state1, action, state2). <br>\n",
    "A função result é responsável por receber um estado1 e uma ação e retornar um estado2, resultante de aplicar a ação sobre estado1. <br>\n",
    "A função cost(state1, action, state2) retorna o custo de ir do estado state1 para estado state2 através de action. <br>"
   ]
  },
  {
   "cell_type": "code",
   "execution_count": null,
   "id": "b2ae0074-fafa-4a12-92e6-fd915b70dea9",
   "metadata": {
    "tags": []
   },
   "outputs": [],
   "source": [
    "for index, op in enumerate(options):\n",
    "    v = cs.result(initial, op)\n",
    "    print(f\"{initial} ---'{op}'---> {v} costs {cs.cost(initial, op, v):.2f}\")\n",
    "    if index == 5:\n",
    "        print(\"There may be more actions, but we are stopping here...\")\n",
    "        break\n",
    "        "
   ]
  },
  {
   "cell_type": "markdown",
   "id": "ba34c00c-de57-4c73-9433-34f18af69dc9",
   "metadata": {},
   "source": [
    "A última função é a responsável por identificação dos estados meta.\n",
    "Certifique-se que a sua função isGoal(state) retorna verdadeiro se state for meta e false caso contrário."
   ]
  },
  {
   "cell_type": "code",
   "execution_count": null,
   "id": "e535a44c-98a7-4ef0-ab95-4602344b726a",
   "metadata": {},
   "outputs": [],
   "source": [
    "fake_goal = cs.initialState()\n",
    "true_goal = cs.result(cs.result(fake_goal, \".\"), \"</s>\")\n",
    "assert cs.isGoal(fake_goal) == False, \"Initial state is not a goal\"\n",
    "assert cs.isGoal(true_goal) == True, f\"The state {true_goal} is a goal\""
   ]
  },
  {
   "cell_type": "markdown",
   "id": "28cb3c30-492b-4a13-bc47-d215755fb354",
   "metadata": {
    "tags": []
   },
   "source": [
    "# Parte 3: Executando as buscas"
   ]
  },
  {
   "cell_type": "markdown",
   "id": "7f770630-ac88-4af5-ab15-1bf0c05c905a",
   "metadata": {},
   "source": [
    "Para executarmos as buscas, nós iremos utilizar a função run_search. Esta função recebe o nome de uma busca, uma instância de problema e possivelmente mais parâmetros. <br>\n"
   ]
  },
  {
   "cell_type": "markdown",
   "id": "6e7c9b4e-1553-4c80-b875-59076b084bff",
   "metadata": {},
   "source": [
    "Primeiro, executaremos uma busca de custo uniforme. Nessa busca, cada nó tem como prioridade a probabilidade total que leva até ele. <br>\n",
    "Com essa busca nós encontramos a resposta ótima. Note que ela é relativamente pequena, pois quanto maior a sentença, menos provável ela é. <br>"
   ]
  },
  {
   "cell_type": "code",
   "execution_count": null,
   "id": "8250d9b0-b413-4724-912f-8aec292b4535",
   "metadata": {
    "tags": []
   },
   "outputs": [],
   "source": [
    "S = run_search(\"UniformCost\", cs)\n",
    "print_search_result(S)"
   ]
  },
  {
   "cell_type": "markdown",
   "id": "71277ca1-e55b-422d-9952-de46c9359487",
   "metadata": {},
   "source": [
    "Nós podemos tentar gerar frases mais longas fazendo uma busca em profundidade limitada. <br>\n",
    "As possíveis vantagens de utilizar essa busca, além de gerar uma frase mais longa, é utilizar menos memória. <br>\n",
    "A desvantagem é que não garantimos mais que encontraremos a resposta ótima. <br>"
   ]
  },
  {
   "cell_type": "code",
   "execution_count": null,
   "id": "dafcec5d-782b-4c92-ab09-17d93258a5c0",
   "metadata": {
    "tags": []
   },
   "outputs": [],
   "source": [
    "for i in range(4, 7):\n",
    "    print(\"Maximum depth: \", i)\n",
    "    S2 = run_search(\"LimitedDepthSearch\", cs, i)\n",
    "    print_search_result(S2)"
   ]
  },
  {
   "cell_type": "markdown",
   "id": "153f5c73-5bec-4637-8f56-109c51b020c7",
   "metadata": {},
   "source": [
    "Um método comum para geração de sentenças é o Beam Search. <br>\n",
    "Esse algoritmo é um tipo de busca local e segue o pseudo-código à seguir: <br>"
   ]
  },
  {
   "cell_type": "markdown",
   "id": "d574b0bd-9288-48aa-841b-cd4b252a3ad9",
   "metadata": {},
   "source": [
    "Esse método é mais rápido que os anteriores e gera candidatas diferentes de resposta. <br>\n",
    "Suas desvantagens são que ele não possui garantias de encontrar a resposta ótima e nem que ele vai encontrar alguma resposta. <br>\n",
    "Como as respostas geradas são de tamanho diferente, a métrica utilizada para compará-las não é a probabilidade, mas sim a perplexidade. <br>\n",
    "Perplexidade de uma sentença é definida como o -log da probabilidade dessa sentença dividida pelo tamanho da sentença. <br>"
   ]
  },
  {
   "cell_type": "code",
   "execution_count": null,
   "id": "9827b0e4-5950-4b1a-8066-77c388bd5466",
   "metadata": {
    "tags": []
   },
   "outputs": [],
   "source": [
    "S3 = run_search(\"BeamSearch\", cs, 15)"
   ]
  },
  {
   "cell_type": "markdown",
   "id": "f3563de2-74be-4b94-bf09-5121b728d621",
   "metadata": {},
   "source": [
    "O Beam Search retorna uma lista de triplas (histórico, probabilidade, perplexidade), onde histórico contém todos os estados que foram utilizados até chegar naquele estado meta. <br>\n",
    "Como a definição de estado varia de pessoa para pessoa, fica a cargo de vocês completar a função para que a sentença final seja apresentada corretamente. <br>"
   ]
  },
  {
   "cell_type": "code",
   "execution_count": null,
   "id": "b1066ff5-5f11-4f6e-b898-5db4fce0ee2d",
   "metadata": {
    "tags": []
   },
   "outputs": [],
   "source": [
    "def print_beam_search(solutions):\n",
    "    \"\"\"\n",
    "    Change this function so that it prints the proper sentence from h\n",
    "    \"\"\"\n",
    "    for solution in solutions:\n",
    "        h, probability, perplexity = solution\n",
    "        sentence = \"\"\n",
    "        for state in h:\n",
    "            for word in state:\n",
    "                sentence += word+\" \"\n",
    "        print(f\"The sentence: {sentence} has probability {probability:.2f}, size {len(h)}, thus {perplexity:.2f} of perplexity\")"
   ]
  },
  {
   "cell_type": "code",
   "execution_count": null,
   "id": "b734f30b-1803-4170-8ae3-ab6e80b3e92f",
   "metadata": {
    "tags": []
   },
   "outputs": [],
   "source": [
    "print_beam_search(S3)"
   ]
  },
  {
   "cell_type": "markdown",
   "id": "b6665b78-ead6-4e52-8732-bf07c1b4bf46",
   "metadata": {},
   "source": [
    "Note que agora a função deixou de ser monotônica: ao expandirmos um nó, os filhos dele podem ter custo menor que do filho."
   ]
  },
  {
   "cell_type": "markdown",
   "id": "ee842dd3-9f1b-4b32-a1e1-03935b7b8927",
   "metadata": {},
   "source": [
    "# Parte 4: Mudando o problema"
   ]
  },
  {
   "cell_type": "markdown",
   "id": "81682dc7-c63f-4080-9c72-e973bc8f63ff",
   "metadata": {},
   "source": [
    "Implemente a classe CompleteSentencePerplexity para que agora possamos executar um problema de busca utilizando a perplexidade ao invés da probabilidade. <br>"
   ]
  },
  {
   "cell_type": "markdown",
   "id": "a2cc167a-d80c-455a-8d6e-6d6d75926f85",
   "metadata": {},
   "source": [
    "O resultado das próximas duas células deve ser exatamente igual ao do anterior."
   ]
  },
  {
   "cell_type": "code",
   "execution_count": null,
   "id": "f3407ee9-984f-475c-a310-d09150bc8557",
   "metadata": {
    "tags": []
   },
   "outputs": [],
   "source": [
    "cs2 = CompleteSentence2(text3, N, \"<s> <s> <s>\")"
   ]
  },
  {
   "cell_type": "code",
   "execution_count": null,
   "id": "104b782a-e8ce-4127-b28f-6316916387a8",
   "metadata": {
    "tags": []
   },
   "outputs": [],
   "source": [
    "cs2.initialState()"
   ]
  },
  {
   "cell_type": "code",
   "execution_count": null,
   "id": "a5478403-ca2c-4978-afdc-effebba4222d",
   "metadata": {
    "tags": []
   },
   "outputs": [],
   "source": [
    "initial = cs2.initialState()\n",
    "options = cs2.actions(initial)\n",
    "print(f\"The initial state has a branching factor of {len(options)}.\")"
   ]
  },
  {
   "cell_type": "markdown",
   "id": "0b3c3811-b8a7-457e-846a-8032f6d5981d",
   "metadata": {},
   "source": [
    "O resultado da próxima célula deve ser como o da vez anterior, mas com todos os custos divididos pela mesma constante."
   ]
  },
  {
   "cell_type": "code",
   "execution_count": null,
   "id": "aec599cd-61a1-48fe-9896-1bd52ac02076",
   "metadata": {
    "tags": []
   },
   "outputs": [],
   "source": [
    "for index, op in enumerate(options):\n",
    "    v = cs2.result(initial, op)\n",
    "    print(f\"{initial} ---'{op}'---> {v} costs {cs2.cost(initial, op, v):.2f}\")\n",
    "    if index == 5:\n",
    "        print(\"There may be more actions, but we are stopping here...\")\n",
    "        break"
   ]
  },
  {
   "cell_type": "markdown",
   "id": "3985c39b-ea92-495c-bf29-6994b5d3f3d7",
   "metadata": {},
   "source": [
    "A próxima celula deve continuar dando os mesmos resultados do anterior."
   ]
  },
  {
   "cell_type": "code",
   "execution_count": null,
   "id": "c816e5a0-92f6-4ab7-94c9-86d632a45966",
   "metadata": {
    "tags": []
   },
   "outputs": [],
   "source": [
    "fake_goal = cs2.initialState()\n",
    "true_goal = cs2.result(cs2.result(fake_goal, \".\"), \"</s>\")\n",
    "assert cs2.isGoal(fake_goal) == False, \"Initial state is not a goal\"\n",
    "assert cs2.isGoal(true_goal) == True, f\"The state {true_goal} is a goal\""
   ]
  },
  {
   "cell_type": "markdown",
   "id": "6f6522bc-5ff5-4a72-9bbf-7d07c3cb4726",
   "metadata": {},
   "source": [
    "# Parte 5: reexecutando as buscas"
   ]
  },
  {
   "cell_type": "markdown",
   "id": "0be93716-9254-49eb-ab87-45879edc48d1",
   "metadata": {},
   "source": [
    "Com essa nossa nova função de custo, a busca por custo uniforme não mais garante resposta ótima, já que uma alternativa ruim pode gerar descendentes melhores."
   ]
  },
  {
   "cell_type": "code",
   "execution_count": null,
   "id": "3c838207-8cfa-4a1d-aeb5-1c02dda35432",
   "metadata": {
    "tags": []
   },
   "outputs": [],
   "source": [
    "S4 = run_search(\"UniformCost\", cs2)\n",
    "print_search_result(S4)"
   ]
  },
  {
   "cell_type": "markdown",
   "id": "6d07fa6e-82c2-4af9-862d-46ac34486567",
   "metadata": {
    "tags": []
   },
   "source": [
    "A Busca em Profundidade Iterativa continua com todas as mesmas propriedades, já que todos os elementos são comparados pelo nível que estão na árvore de busca."
   ]
  },
  {
   "cell_type": "code",
   "execution_count": null,
   "id": "97632d7e-db98-4d50-a7cc-990920e29fe3",
   "metadata": {
    "tags": []
   },
   "outputs": [],
   "source": [
    "for i in range(4, 7):\n",
    "    print(\"Maximum depth: \", i)\n",
    "    S5 = run_search(\"LimitedDepthSearch\", cs2, i)\n",
    "    print_search_result(S5)"
   ]
  },
  {
   "cell_type": "markdown",
   "id": "6f5d065f-c31e-4df3-a656-dd7674acf9f4",
   "metadata": {
    "tags": []
   },
   "source": [
    "O Beam Search também continua encontrando as mesmas respostas que anteriormente, pois em toda iteração todas as candidatas possuem mesmo tamanho."
   ]
  },
  {
   "cell_type": "code",
   "execution_count": null,
   "id": "b0c349af-fece-482e-ba57-7b80e7123adf",
   "metadata": {},
   "outputs": [],
   "source": [
    "S = run_search(\"BeamSearch\", cs2, 15)"
   ]
  },
  {
   "cell_type": "code",
   "execution_count": null,
   "id": "e1c2108f-d757-436a-87cf-8eaabeceb6e2",
   "metadata": {},
   "outputs": [],
   "source": [
    "def print_beam_search2(solutions):\n",
    "    \"\"\"\n",
    "    Change this function so that it prints the proper sentence from h\n",
    "    \"\"\"\n",
    "    for solution in solutions:\n",
    "        h, probability, perplexity = solucao\n",
    "        sentence = \"\"\n",
    "        for state in h:\n",
    "            for word in state:\n",
    "                sentence += word+\" \"\n",
    "        print(f\"The sentence: {sentence} has probability {probability:.2f}, size {len(h)}, thus {perplexity:.2f} of perplexity\")"
   ]
  },
  {
   "cell_type": "code",
   "execution_count": null,
   "id": "668f12f3-0200-4a90-b42e-08d3885e8542",
   "metadata": {
    "tags": []
   },
   "outputs": [],
   "source": [
    "print_beam_search2(S)"
   ]
  },
  {
   "cell_type": "code",
   "execution_count": null,
   "id": "9050ebeb-0da9-4c7d-a517-53b0d5e707a5",
   "metadata": {},
   "outputs": [],
   "source": []
  }
 ],
 "metadata": {
  "kernelspec": {
   "display_name": "Python 3 (ipykernel)",
   "language": "python",
   "name": "python3"
  },
  "language_info": {
   "codemirror_mode": {
    "name": "ipython",
    "version": 3
   },
   "file_extension": ".py",
   "mimetype": "text/x-python",
   "name": "python",
   "nbconvert_exporter": "python",
   "pygments_lexer": "ipython3",
   "version": "3.11.5"
  }
 },
 "nbformat": 4,
 "nbformat_minor": 5
}
